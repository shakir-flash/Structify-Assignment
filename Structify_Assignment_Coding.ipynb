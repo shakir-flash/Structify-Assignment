{
  "nbformat": 4,
  "nbformat_minor": 0,
  "metadata": {
    "colab": {
      "provenance": [],
      "authorship_tag": "ABX9TyOYWV/V4ZABXTYE2ejrSs/g"
    },
    "kernelspec": {
      "name": "python3",
      "display_name": "Python 3"
    },
    "language_info": {
      "name": "python"
    }
  },
  "cells": [
    {
      "cell_type": "code",
      "source": [
        "def count_intersections(radians, identifiers):\n",
        "    #Initializing a dictionary to hold the start and end radian values\n",
        "    chords = {}\n",
        "\n",
        "    #Iterating over the list of identifiers to populate the 'chords' dictionary\n",
        "    for i, identifier in enumerate(identifiers):\n",
        "        # Splitting the identifiers into the type ('s' or 'e') and the index\n",
        "        key, index = identifier.split('_')\n",
        "        index = int(index)\n",
        "\n",
        "#Checking if the current identifier is for the start of a chord\n",
        "        if key == 's':\n",
        "            #If the chord has not been visited, initialize its entry with the start value\n",
        "            if index not in chords:\n",
        "                chords[index] = [radians[i], None]\n",
        "            #If this chord has been visited, it means its end was encountered first, set the start value now\n",
        "            else:\n",
        "                chords[index][0] = radians[i]\n",
        "        #If the current identifier is for the end of a chord\n",
        "        else:\n",
        "            #If this chord has not been visited, initialize its entry with None for start and set the end value\n",
        "            if index not in chords:\n",
        "                chords[index] = [None, radians[i]]\n",
        "            #If this chord has been seen before, set the end value\n",
        "            else:\n",
        "                chords[index][1] = radians[i]\n",
        "\n",
        "\n",
        ""
      ],
      "metadata": {
        "colab": {
          "base_uri": "https://localhost:8080/"
        },
        "id": "tJnp6YckNO02",
        "outputId": "76f394ee-3371-400c-a4f2-76a234750c0c"
      },
      "execution_count": 2,
      "outputs": [
        {
          "output_type": "stream",
          "name": "stdout",
          "text": [
            "1\n",
            "0\n"
          ]
        }
      ]
    }
  ]
}