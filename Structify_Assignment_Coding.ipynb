{
  "nbformat": 4,
  "nbformat_minor": 0,
  "metadata": {
    "colab": {
      "provenance": [],
      "authorship_tag": "ABX9TyPCm5YIgEKa6U/0DN67szJr"
    },
    "kernelspec": {
      "name": "python3",
      "display_name": "Python 3"
    },
    "language_info": {
      "name": "python"
    }
  },
  "cells": [
    {
      "cell_type": "code",
      "source": [
        "def count_intersections(radians, identifiers):\n",
        "    #Initializing a dictionary to hold the start and end radian values\n",
        "    chords = {}\n",
        "\n",
        "    #Iterating over the list of identifiers to populate the 'chords' dictionary\n",
        "    for i, identifier in enumerate(identifiers):\n",
        "        # Splitting the identifiers into the type ('s' or 'e') and the index\n",
        "        key, index = identifier.split('_')\n",
        "        index = int(index)\n",
        "\n",
        ""
      ],
      "metadata": {
        "colab": {
          "base_uri": "https://localhost:8080/"
        },
        "id": "tJnp6YckNO02",
        "outputId": "76f394ee-3371-400c-a4f2-76a234750c0c"
      },
      "execution_count": 2,
      "outputs": [
        {
          "output_type": "stream",
          "name": "stdout",
          "text": [
            "1\n",
            "0\n"
          ]
        }
      ]
    }
  ]
}