{
  "nbformat": 4,
  "nbformat_minor": 0,
  "metadata": {
    "colab": {
      "provenance": [],
      "authorship_tag": "ABX9TyPZoXgI5cP0QyAc10U/W/UQ"
    },
    "kernelspec": {
      "name": "python3",
      "display_name": "Python 3"
    },
    "language_info": {
      "name": "python"
    }
  },
  "cells": [
    {
      "cell_type": "code",
      "source": [
        "def count_intersections(radians, identifiers):\n",
        "    #Initializing a dictionary to hold the start and end radian values\n",
        "    chords = {}\n",
        "\n",
        "    #Iterating over the list of identifiers to populate the 'chords' dictionary\n",
        "    for i, identifier in enumerate(identifiers):\n",
        "        # Splitting the identifiers into the type ('s' or 'e') and the index\n",
        "        key, index = identifier.split('_')\n",
        "        index = int(index)\n",
        "\n",
        "#Checking if the current identifier is for the start of a chord\n",
        "        if key == 's':\n",
        "            #If the chord has not been visited, initialize its entry with the start value\n",
        "            if index not in chords:\n",
        "                chords[index] = [radians[i], None]\n",
        "            #If this chord has been visited, it means its end was encountered first, set the start value now\n",
        "            else:\n",
        "                chords[index][0] = radians[i]\n",
        "        #If the current identifier is for the end of a chord\n",
        "        else:\n",
        "            #If this chord has not been visited, initialize its entry with None for start and set the end value\n",
        "            if index not in chords:\n",
        "                chords[index] = [None, radians[i]]\n",
        "            #If this chord has been seen before, set the end value\n",
        "            else:\n",
        "                chords[index][1] = radians[i]\n",
        "\n",
        "#Sorting the list of chords to prepare for the sweep-line algorithm\n",
        "    sorted_chords = sorted(chords.values(), key=lambda x: x[0])\n",
        "\n",
        "    #Initializing a count for intersections and a list to keep track of active chords\n",
        "    intersections = 0\n",
        "    active_chords = []\n",
        "\n",
        "    #Iterate over the sorted chords to count intersections.\n",
        "    for chord in sorted_chords:\n",
        "        start, end = chord\n",
        "\n",
        "        #Updating the list of active chords by removing those that have already ended\n",
        "        active_chords = [c for c in active_chords if c[1] > start]\n",
        "\n",
        "        #The number of active chords at this point will intersect with the current chord, so add that to the count\n",
        "        intersections += len(active_chords)\n",
        "\n",
        "        #Adding the current chord to the list of active chords since it's now part of the sweep\n",
        "        active_chords.append(chord)\n",
        "\n",
        "    #Return the total count of intersections\n",
        "    return intersections\n",
        "\n",
        "\n",
        "#Example utilization:\n",
        "#Example 1:\n",
        "radians = [0.78, 1.47, 1.77, 3.92]\n",
        "identifiers = ['s_1', 's_2', 'e_1', 'e_2']\n",
        "print(f\"The number of intersections for the Radians- {radians} and identifiers  of {identifiers} is {count_intersections(radians, identifiers)}.\")\n",
        "\n",
        "#Example 2:\n",
        "radians = [0.9, 1.70, 1.3, 2.92]\n",
        "identifiers = ['s_1', 's_2', 'e_1', 'e_2']\n",
        "print(f\"The number of intersections for the Radians- {radians} and identifiers  of {identifiers} is {count_intersections(radians, identifiers)}.\")\n",
        ""
      ],
      "metadata": {
        "colab": {
          "base_uri": "https://localhost:8080/"
        },
        "id": "tJnp6YckNO02",
        "outputId": "4939b04e-ee11-48cf-b831-7eb7c9be1c8a"
      },
      "execution_count": 6,
      "outputs": [
        {
          "output_type": "stream",
          "name": "stdout",
          "text": [
            "The number of intersections for the Radians- [0.78, 1.47, 1.77, 3.92] and identifiers  of ['s_1', 's_2', 'e_1', 'e_2'] is 1.\n",
            "The number of intersections for the Radians- [0.9, 1.7, 1.3, 2.92] and identifiers  of ['s_1', 's_2', 'e_1', 'e_2'] is 0.\n"
          ]
        }
      ]
    }
  ]
}